{
 "cells": [
  {
   "cell_type": "code",
   "execution_count": 5,
   "id": "6dd8d469",
   "metadata": {},
   "outputs": [
    {
     "name": "stdout",
     "output_type": "stream",
     "text": [
      "Downloading https://www.cs.toronto.edu/~kriz/cifar-10-python.tar.gz to ./data/cifar-10-python.tar.gz\n"
     ]
    },
    {
     "name": "stderr",
     "output_type": "stream",
     "text": [
      "100.0%\n"
     ]
    },
    {
     "name": "stdout",
     "output_type": "stream",
     "text": [
      "Extracting ./data/cifar-10-python.tar.gz to ./data\n"
     ]
    }
   ],
   "source": [
    "import torchvision\n",
    "import torchvision.transforms as transforms\n",
    "import pandas as pd\n",
    "import os\n",
    "\n",
    "# CIFAR-10データセットをダウンロード\n",
    "transform = transforms.Compose([transforms.ToTensor()])\n",
    "trainset = torchvision.datasets.CIFAR10(root='./data', train=True, download=True, transform=transform)\n",
    "classes = trainset.classes\n",
    "\n",
    "# 画像とラベルを保存するディレクトリとCSVファイルを作成\n",
    "image_directory = './cifar_images'\n",
    "csv_file = './cifar_labels.csv'\n",
    "os.makedirs(image_directory, exist_ok=True)\n",
    "labels = []\n",
    "\n",
    "# 画像とラベルを保存\n",
    "for i, (image, label) in enumerate(trainset):\n",
    "    image_path = os.path.join(image_directory, f'image_{i}.png')\n",
    "    image_pil = transforms.ToPILImage()(image)\n",
    "    image_pil.save(image_path)\n",
    "    labels.append({'image': f'image_{i}.png', 'label': classes[label]})\n",
    "\n",
    "# ラベルをCSVファイルに保存\n",
    "df_labels = pd.DataFrame(labels)\n",
    "df_labels.to_csv(csv_file, index=False)"
   ]
  },
  {
   "cell_type": "code",
   "execution_count": 2,
   "id": "05ec6841",
   "metadata": {},
   "outputs": [
    {
     "name": "stderr",
     "output_type": "stream",
     "text": [
      "/usr/local/lib/python3.8/dist-packages/torchvision/models/_utils.py:223: UserWarning: Arguments other than a weight enum or `None` for 'weights' are deprecated since 0.13 and may be removed in the future. The current behavior is equivalent to passing `weights=ResNet50_Weights.IMAGENET1K_V1`. You can also use `weights=ResNet50_Weights.DEFAULT` to get the most up-to-date weights.\n",
      "  warnings.warn(msg)\n",
      "Downloading: \"https://download.pytorch.org/models/resnet50-0676ba61.pth\" to /root/.cache/torch/hub/checkpoints/resnet50-0676ba61.pth\n",
      "100.0%\n"
     ]
    }
   ],
   "source": [
    "import torch\n",
    "import torchvision.models as models\n",
    "\n",
    "# トレーニング済みのResNet-18モデルをロード\n",
    "model = models.resnet50(pretrained=True)\n",
    "\n",
    "# モデルを.ptファイルとして保存\n",
    "torch.save(model, 'resnet50.pt')\n"
   ]
  },
  {
   "cell_type": "code",
   "execution_count": null,
   "id": "73b24590",
   "metadata": {},
   "outputs": [],
   "source": []
  }
 ],
 "metadata": {
  "kernelspec": {
   "display_name": "Python 3 (ipykernel)",
   "language": "python",
   "name": "python3"
  },
  "language_info": {
   "codemirror_mode": {
    "name": "ipython",
    "version": 3
   },
   "file_extension": ".py",
   "mimetype": "text/x-python",
   "name": "python",
   "nbconvert_exporter": "python",
   "pygments_lexer": "ipython3",
   "version": "3.8.10"
  }
 },
 "nbformat": 4,
 "nbformat_minor": 5
}
