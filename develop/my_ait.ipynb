{
 "cells": [
  {
   "cell_type": "markdown",
   "metadata": {
    "deletable": false,
    "editable": false
   },
   "source": [
    "# AIT Development notebook"
   ]
  },
  {
   "cell_type": "markdown",
   "metadata": {
    "deletable": false,
    "editable": false
   },
   "source": [
    "## notebook of structure"
   ]
  },
  {
   "cell_type": "markdown",
   "metadata": {
    "deletable": false,
    "editable": false
   },
   "source": [
    "| #  | Name                                               | cells | for_dev | edit               | description                                                                |\n",
    "|----|----------------------------------------------------|-------|---------|--------------------|----------------------------------------------------------------------------|\n",
    "| 1  | [Environment detection](##1-Environment-detection) | 1     | No      | uneditable         | detect whether the notebook are invoked for packaging or in production     |\n",
    "| 2  | [Preparing AIT SDK](##2-Preparing-AIT-SDK)         | 1     | Yes     | uneditable         | download and install AIT SDK                                               |\n",
    "| 3  | [Dependency Management](##3-Dependency-Management) | 3     | Yes     | required(cell #2)  | generate requirements.txt for Docker container                             |\n",
    "| 4  | [Importing Libraries](##4-Importing-Libraries)     | 2     | Yes     | required(cell #1)  | import required libraries                                                  |\n",
    "| 5  | [Manifest Generation](##5-Manifest-Generation)     | 1     | Yes     | required           | generate AIT Manifest                                                      |\n",
    "| 6  | [Prepare for the Input](##6-Prepare-for-the-Input) | 1     | Yes     | required           | generate AIT Input JSON (inventory mapper)                                 |\n",
    "| 7  | [Initialization](##7-Initialization)               | 1     | No      | uneditable         | initialization for AIT execution                                           |\n",
    "| 8  | [Function definitions](##8-Function-definitions)   | N     | No      | required           | define functions invoked from Main area.<br> also define output functions. |\n",
    "| 9  | [Main Algorithms](##9-Main-Algorithms)             | 1     | No      | required           | area for main algorithms of an AIT                                         |\n",
    "| 10 | [Entry point](##10-Entry-point)                    | 1     | No      | uneditable         | an entry point where Qunomon invoke this AIT from here                     |\n",
    "| 11 | [License](##11-License)                            | 1     | Yes     | required           | generate license information                                               |\n",
    "| 12 | [Deployment](##12-Deployment)                      | 1     | Yes     | uneditable         | convert this notebook to the python file for packaging purpose             |"
   ]
  },
  {
   "cell_type": "markdown",
   "metadata": {
    "deletable": false,
    "editable": false
   },
   "source": [
    "## notebook template revision history"
   ]
  },
  {
   "cell_type": "markdown",
   "metadata": {
    "deletable": false,
    "editable": false
   },
   "source": [
    "1.0.1 2020/10/21\n",
    "\n",
    "* add revision history\n",
    "* separate `create requirements and pip install` editable and noeditable\n",
    "* separate `import` editable and noeditable\n",
    "\n",
    "1.0.0 2020/10/12\n",
    "\n",
    "* new cerarion"
   ]
  },
  {
   "cell_type": "markdown",
   "metadata": {
    "deletable": false,
    "editable": false
   },
   "source": [
    "## body"
   ]
  },
  {
   "cell_type": "markdown",
   "metadata": {
    "deletable": false,
    "editable": false
   },
   "source": [
    "### #1 Environment detection"
   ]
  },
  {
   "cell_type": "markdown",
   "metadata": {
    "deletable": false,
    "editable": false
   },
   "source": [
    "[uneditable]"
   ]
  },
  {
   "cell_type": "code",
   "execution_count": 1,
   "metadata": {
    "deletable": false,
    "editable": false
   },
   "outputs": [],
   "source": [
    "# Determine whether to start AIT or jupyter by startup argument\n",
    "import sys\n",
    "is_ait_launch = (len(sys.argv) == 2)"
   ]
  },
  {
   "cell_type": "markdown",
   "metadata": {
    "deletable": false,
    "editable": false
   },
   "source": [
    "### #2 Preparing AIT SDK"
   ]
  },
  {
   "cell_type": "markdown",
   "metadata": {
    "deletable": false,
    "editable": false
   },
   "source": [
    "[uneditable]"
   ]
  },
  {
   "cell_type": "code",
   "execution_count": 2,
   "metadata": {
    "deletable": false,
    "editable": false
   },
   "outputs": [
    {
     "name": "stdout",
     "output_type": "stream",
     "text": [
      "\u001b[33mWARNING: Running pip as the 'root' user can result in broken permissions and conflicting behaviour with the system package manager. It is recommended to use a virtual environment instead: https://pip.pypa.io/warnings/venv\u001b[0m\u001b[33m\n",
      "\u001b[0m\u001b[33mWARNING: Running pip as the 'root' user can result in broken permissions and conflicting behaviour with the system package manager. It is recommended to use a virtual environment instead: https://pip.pypa.io/warnings/venv\u001b[0m\u001b[33m\n",
      "\u001b[0m"
     ]
    }
   ],
   "source": [
    "if not is_ait_launch:\n",
    "    # get ait-sdk file name\n",
    "    from pathlib import Path\n",
    "    from glob import glob\n",
    "    import re\n",
    "    import os\n",
    "\n",
    "    current_dir = %pwd\n",
    "\n",
    "    ait_sdk_path = \"./ait_sdk-*-py3-none-any.whl\"\n",
    "    ait_sdk_list = glob(ait_sdk_path)\n",
    "    ait_sdk_name = os.path.basename(ait_sdk_list[-1])\n",
    "\n",
    "    # install ait-sdk\n",
    "    !pip install -q --upgrade pip\n",
    "    !pip install -q --no-deps --force-reinstall ./$ait_sdk_name"
   ]
  },
  {
   "cell_type": "markdown",
   "metadata": {
    "deletable": false,
    "editable": false
   },
   "source": [
    "### #3 Dependency Management"
   ]
  },
  {
   "cell_type": "markdown",
   "metadata": {
    "deletable": false,
    "editable": false
   },
   "source": [
    "#### #3-1 [uneditable]"
   ]
  },
  {
   "cell_type": "code",
   "execution_count": 3,
   "metadata": {
    "deletable": false,
    "editable": false
   },
   "outputs": [],
   "source": [
    "if not is_ait_launch:\n",
    "    from ait_sdk.common.files.ait_requirements_generator import AITRequirementsGenerator\n",
    "    requirements_generator = AITRequirementsGenerator()"
   ]
  },
  {
   "cell_type": "markdown",
   "metadata": {
    "deletable": false,
    "editable": false
   },
   "source": [
    "#### #3-2 [required]"
   ]
  },
  {
   "cell_type": "code",
   "execution_count": 4,
   "metadata": {},
   "outputs": [],
   "source": [
    "if not is_ait_launch:\n",
    "    requirements_generator.add_package('torch','2.1.0')\n",
    "    requirements_generator.add_package('torchvision','0.16.0')\n",
    "    requirements_generator.add_package('numpy','1.22.0')\n",
    "    requirements_generator.add_package('scikit-learn')\n",
    "    requirements_generator.add_package('Pillow')\n",
    "    requirements_generator.add_package('pandas', '2.0.3')"
   ]
  },
  {
   "cell_type": "markdown",
   "metadata": {
    "deletable": false,
    "editable": false
   },
   "source": [
    "#### #3-3 [uneditable]"
   ]
  },
  {
   "cell_type": "code",
   "execution_count": 5,
   "metadata": {
    "deletable": false,
    "editable": false
   },
   "outputs": [
    {
     "name": "stdout",
     "output_type": "stream",
     "text": [
      "\u001b[33mWARNING: Running pip as the 'root' user can result in broken permissions and conflicting behaviour with the system package manager. It is recommended to use a virtual environment instead: https://pip.pypa.io/warnings/venv\u001b[0m\u001b[33m\n",
      "\u001b[0m"
     ]
    }
   ],
   "source": [
    "if not is_ait_launch:\n",
    "    requirements_generator.add_package(f'./{ait_sdk_name}')\n",
    "    requirements_path = requirements_generator.create_requirements(current_dir)\n",
    "\n",
    "    !pip install -q -r $requirements_path "
   ]
  },
  {
   "cell_type": "markdown",
   "metadata": {
    "deletable": false,
    "editable": false
   },
   "source": [
    "### #4 Importing Libraries"
   ]
  },
  {
   "cell_type": "markdown",
   "metadata": {
    "deletable": false,
    "editable": false
   },
   "source": [
    "#### #4-1 [required]"
   ]
  },
  {
   "cell_type": "code",
   "execution_count": 6,
   "metadata": {},
   "outputs": [],
   "source": [
    "import os\n",
    "import pandas as pd\n",
    "import json\n",
    "import numpy as np\n",
    "from PIL import Image\n",
    "import torch\n",
    "import torch.nn as nn\n",
    "from torch.utils.data import Dataset, DataLoader, Subset\n",
    "import torchvision\n",
    "import torchvision.transforms as transforms\n",
    "from sklearn.model_selection import KFold\n"
   ]
  },
  {
   "cell_type": "markdown",
   "metadata": {
    "deletable": false,
    "editable": false
   },
   "source": [
    "#### #4-2 [uneditable]"
   ]
  },
  {
   "cell_type": "code",
   "execution_count": 7,
   "metadata": {
    "deletable": false,
    "editable": false
   },
   "outputs": [],
   "source": [
    "# must use modules\n",
    "from os import path\n",
    "import shutil  # do not remove\n",
    "from ait_sdk.common.files.ait_input import AITInput  # do not remove\n",
    "from ait_sdk.common.files.ait_output import AITOutput  # do not remove\n",
    "from ait_sdk.common.files.ait_manifest import AITManifest  # do not remove\n",
    "from ait_sdk.develop.ait_path_helper import AITPathHelper  # do not remove\n",
    "from ait_sdk.utils.logging import get_logger, log, get_log_path  # do not remove\n",
    "from ait_sdk.develop.annotation import measures, resources, downloads, ait_main  # do not remove\n",
    "# must use modules"
   ]
  },
  {
   "cell_type": "markdown",
   "metadata": {
    "deletable": false,
    "editable": false
   },
   "source": [
    "### #5 Manifest Generation"
   ]
  },
  {
   "cell_type": "markdown",
   "metadata": {
    "deletable": false,
    "editable": false
   },
   "source": [
    "[required]"
   ]
  },
  {
   "cell_type": "code",
   "execution_count": 8,
   "metadata": {},
   "outputs": [],
   "source": [
    "if not is_ait_launch:\n",
    "    from ait_sdk.common.files.ait_manifest_generator import AITManifestGenerator\n",
    "    manifest_genenerator = AITManifestGenerator(current_dir)\n",
    "    manifest_genenerator.set_ait_name('eval_correctness_image_classifier_pytorch')\n",
    "    manifest_genenerator.set_ait_description('【機械学習モデルの正確性】を評価するため、データセットをランダムに分割し、それぞれの分割されたデータセットを対象としモデルで精度算出すること。その精度差が低ければ、モデルはデータセットに対し汎用的な性能を獲得していると判断すること。')\n",
    "    manifest_genenerator.set_ait_source_repository('https://github.com/aistairc/Qunomon_AIT_eval_correctness_image_classifier_pytorch')\n",
    "    manifest_genenerator.set_ait_version('1.0')\n",
    "    manifest_genenerator.add_ait_licenses('Apache License Version 2.0')\n",
    "    manifest_genenerator.add_ait_keywords('pytorch')\n",
    "    manifest_genenerator.add_ait_keywords('Image Classification')\n",
    "    manifest_genenerator.set_ait_quality('https://ait-hub.pj.aist.go.jp/ait-hub/api/0.0.1/qualityDimensions/機械学習品質マネジメントガイドライン第三版/C-1機械学習モデルの正確性')\n",
    "    inventory_requirement_root_dir = manifest_genenerator.format_ait_inventory_requirement(format_=['*'])\n",
    "    manifest_genenerator.add_ait_inventories(name='root_dir', \n",
    "                                             type_='dataset', \n",
    "                                             description='評価対象データセットのディレクトリ(すべて画像ファイルを一つフォルダに配置してください)', \n",
    "                                             requirement=inventory_requirement_root_dir)\n",
    "    inventory_requirement_model = manifest_genenerator.format_ait_inventory_requirement(format_=['pt'])\n",
    "    manifest_genenerator.add_ait_inventories(name='pytorch_model', \n",
    "                                             type_='model', \n",
    "                                             description='pytorchでトレーニング済みの画像分類モデル(モデルのアーキテクチャをつけて保存が必要 例:torch.save(model, モデル名称))', \n",
    "                                             requirement=inventory_requirement_model)\n",
    "    inventory_requirement_label = manifest_genenerator.format_ait_inventory_requirement(format_=['csv'])\n",
    "    manifest_genenerator.add_ait_inventories(name='label', \n",
    "                                             type_='attribute set', \n",
    "                                             description='評価対象データセットの画像ラベル値（CSVタイトル:image_path, lable）', \n",
    "                                             requirement=inventory_requirement_label)\n",
    "    manifest_genenerator.add_ait_parameters(name='range_section', \n",
    "                                            type_='int', \n",
    "                                            description='データセット分割のサブセクション数', \n",
    "                                            default_val='5')\n",
    "    manifest_genenerator.add_ait_parameters(name='calc_count', \n",
    "                                            type_='int', \n",
    "                                            description='試算回数', \n",
    "                                            default_val='5')\n",
    "    manifest_genenerator.add_ait_measures(name='F-value', \n",
    "                                          type_='float', \n",
    "                                          description='各回試算結果をまとめて算出された偏差値', \n",
    "                                          structure='single',\n",
    "                                          min='0',\n",
    "                                          max='1')\n",
    "    manifest_genenerator.add_ait_downloads(name='calc_result', \n",
    "                                           description='各回試算結果の詳細')\n",
    "    manifest_genenerator.add_ait_downloads(name='Log', \n",
    "                                           description='AIT実行ログ')\n",
    "    manifest_path = manifest_genenerator.write()"
   ]
  },
  {
   "cell_type": "markdown",
   "metadata": {
    "deletable": false,
    "editable": false
   },
   "source": [
    "### #6 Prepare for the Input"
   ]
  },
  {
   "cell_type": "markdown",
   "metadata": {
    "deletable": false,
    "editable": false
   },
   "source": [
    "[required]"
   ]
  },
  {
   "cell_type": "code",
   "execution_count": 9,
   "metadata": {},
   "outputs": [],
   "source": [
    "if not is_ait_launch:\n",
    "    from ait_sdk.common.files.ait_input_generator import AITInputGenerator\n",
    "    input_generator = AITInputGenerator(manifest_path)\n",
    "    input_generator.add_ait_inventories('root_dir','cifar_images')\n",
    "    input_generator.add_ait_inventories('pytorch_model','resnet50.pt')\n",
    "    input_generator.add_ait_inventories('label','cifar_labels.csv')\n",
    "    input_generator.set_ait_params(name='range_section',\n",
    "                                   value='5')\n",
    "    input_generator.set_ait_params(name='calc_count',\n",
    "                                   value='3')\n",
    "    input_generator.write()"
   ]
  },
  {
   "cell_type": "markdown",
   "metadata": {
    "deletable": false,
    "editable": false
   },
   "source": [
    "### #7 Initialization"
   ]
  },
  {
   "cell_type": "markdown",
   "metadata": {
    "deletable": false,
    "editable": false
   },
   "source": [
    "[uneditable]"
   ]
  },
  {
   "cell_type": "code",
   "execution_count": 10,
   "metadata": {
    "deletable": false,
    "editable": false
   },
   "outputs": [],
   "source": [
    "logger = get_logger()\n",
    "\n",
    "ait_manifest = AITManifest()\n",
    "ait_input = AITInput(ait_manifest)\n",
    "ait_output = AITOutput(ait_manifest)\n",
    "\n",
    "if is_ait_launch:\n",
    "    # launch from AIT\n",
    "    current_dir = path.dirname(path.abspath(__file__))\n",
    "    path_helper = AITPathHelper(argv=sys.argv, ait_input=ait_input, ait_manifest=ait_manifest, entry_point_dir=current_dir)\n",
    "else:\n",
    "    # launch from jupyter notebook\n",
    "    # ait.input.json make in input_dir\n",
    "    input_dir = '/usr/local/qai/mnt/ip/job_args/1/1'\n",
    "    current_dir = %pwd\n",
    "    path_helper = AITPathHelper(argv=['', input_dir], ait_input=ait_input, ait_manifest=ait_manifest, entry_point_dir=current_dir)\n",
    "\n",
    "ait_input.read_json(path_helper.get_input_file_path())\n",
    "ait_manifest.read_json(path_helper.get_manifest_file_path())\n",
    "\n",
    "### do not edit cell"
   ]
  },
  {
   "cell_type": "markdown",
   "metadata": {
    "deletable": false,
    "editable": false
   },
   "source": [
    "### #8 Function definitions"
   ]
  },
  {
   "cell_type": "markdown",
   "metadata": {
    "deletable": false,
    "editable": false
   },
   "source": [
    "[required]"
   ]
  },
  {
   "cell_type": "code",
   "execution_count": 11,
   "metadata": {},
   "outputs": [],
   "source": [
    "@log(logger)\n",
    "@measures(ait_output, 'F-value')\n",
    "def measure_acc(root_dir, model, label_path, label_to_int, range_section, calc_count):\n",
    "    \n",
    "    # Fomart dataset\n",
    "    custom_dataset = CustomImageDataset(label_path=label_path, label_to_int=label_to_int, img_dir=root_dir)\n",
    "\n",
    "    # Evaluate model stability\n",
    "    std_deviation, eval_details_df = evaluate_model_stability(custom_dataset, model, range_section, calc_count)\n",
    "    \n",
    "    return std_deviation, eval_details_df\n",
    "\n",
    "def evaluate_model_stability(dataset, model, n_splits, n_trials):\n",
    "    \n",
    "    device = 'cuda' if torch.cuda.is_available() else 'cpu'\n",
    "    kf = KFold(n_splits=n_splits, shuffle=True, random_state=42)\n",
    "    trial_accuracies = []\n",
    "    calc_details = []\n",
    "\n",
    "    for trial in range(n_trials):\n",
    "        accuracies = []\n",
    "        sub = 0\n",
    "        for _, test_index in kf.split(dataset):\n",
    "            print(f' -------------------- Trial {trial+1}-{sub+1} start -------------------- ')\n",
    "            print(f'subset : {test_index}')\n",
    "            \n",
    "            subset = Subset(dataset, test_index)\n",
    "            loader = DataLoader(subset, batch_size=64, shuffle=True, collate_fn=lambda x: list(zip(*x)))\n",
    "            \n",
    "            accuracy = evaluate_model(model, loader, device)\n",
    "            accuracies.append(accuracy)\n",
    "            \n",
    "            calc_details.append({'Trial': f'Trial {trial+1}-{sub+1}',\n",
    "                                 'Subset': test_index,\n",
    "                                 'accuracy': accuracy})\n",
    "\n",
    "            print(f'\\n　Accuracy: {accuracy}　\\n')\n",
    "            print(f' -------------------- Trial {trial+1}-{sub+1} end ---------------------- \\n')\n",
    "            sub += 1\n",
    "        \n",
    "        trial_accuracies.append(np.mean(accuracies))\n",
    "    \n",
    "    print(f'trial_accuracies: {trial_accuracies}')\n",
    "    \n",
    "    std_deviation = np.std(trial_accuracies)\n",
    "    print(f'Accuracy standard deviation over trials: {std_deviation}')\n",
    "    \n",
    "    return std_deviation, pd.DataFrame(calc_details)\n",
    "\n",
    "def evaluate_model(model, dataloader, device):\n",
    "    model.eval()\n",
    "    correct = 0\n",
    "    total = 0\n",
    "    idx = 0\n",
    "    with torch.no_grad():\n",
    "        for images, labels in dataloader:\n",
    "            images = [transforms.functional.to_tensor(image).to(device) for image in images]\n",
    "            images = torch.stack(images)\n",
    "            labels = torch.tensor(labels).to(device)\n",
    "            pred = model(images)\n",
    "            correct += (pred.argmax(1) == labels).type(torch.float).sum().item()\n",
    "            total += labels.size(0)\n",
    "            print(f'batch run index:{idx}     correct:{correct}     total:{total} ')\n",
    "            idx += 1\n",
    "        accuracy = correct / total\n",
    "    return accuracy"
   ]
  },
  {
   "cell_type": "code",
   "execution_count": 12,
   "metadata": {},
   "outputs": [],
   "source": [
    "class CustomImageDataset(Dataset):\n",
    "    def __init__(self, label_path, label_to_int, img_dir):\n",
    "        self.img_labels = pd.read_csv(label_path)\n",
    "        self.img_dir = img_dir\n",
    "        self.images = self.img_labels.iloc[:, 0].tolist()\n",
    "        self.labels = [label_to_int[label] for label in self.img_labels.iloc[:, 1].tolist()]\n",
    "\n",
    "    def __len__(self):\n",
    "        return len(self.img_labels)\n",
    "\n",
    "    def __getitem__(self, idx):\n",
    "        img_path = os.path.join(self.img_dir, self.images[idx])\n",
    "        image = Image.open(img_path)\n",
    "        label = self.labels[idx]\n",
    "        return image, label"
   ]
  },
  {
   "cell_type": "code",
   "execution_count": 13,
   "metadata": {},
   "outputs": [],
   "source": [
    "@log(logger)\n",
    "@downloads(ait_output, path_helper, 'calc_result', 'calc_result.csv')\n",
    "def calc_result(results_df, file_path: str=None) -> str:    \n",
    "    results_df.to_csv(file_path, index=False)"
   ]
  },
  {
   "cell_type": "code",
   "execution_count": 14,
   "metadata": {},
   "outputs": [],
   "source": [
    "@log(logger)\n",
    "@downloads(ait_output, path_helper, 'Log', 'ait.log')\n",
    "def move_log(file_path: str=None) -> str:\n",
    "    shutil.move(get_log_path(), file_path)"
   ]
  },
  {
   "cell_type": "markdown",
   "metadata": {
    "deletable": false,
    "editable": false
   },
   "source": [
    "### #9 Main Algorithms"
   ]
  },
  {
   "cell_type": "markdown",
   "metadata": {
    "deletable": false,
    "editable": false
   },
   "source": [
    "[required]"
   ]
  },
  {
   "cell_type": "code",
   "execution_count": 15,
   "metadata": {},
   "outputs": [],
   "source": [
    "@log(logger)\n",
    "@ait_main(ait_output, path_helper)\n",
    "def main() -> None:\n",
    "\n",
    "    # インベントリを読み込み\n",
    "    root_dir = ait_input.get_inventory_path('root_dir')\n",
    "    model = torch.load(ait_input.get_inventory_path('pytorch_model'))\n",
    "    label_path = ait_input.get_inventory_path('label')\n",
    "    df = pd.read_csv(label_path)\n",
    "    unique_labels = df['label'].unique()\n",
    "    label_to_int = {label: index for index, label in enumerate(unique_labels)}\n",
    "    \n",
    "    range_section = ait_input.get_method_param_value('range_section')\n",
    "    calc_count = ait_input.get_method_param_value('calc_count')\n",
    "    \n",
    "    print('root_dir:', root_dir)\n",
    "    print('model_path:', ait_input.get_inventory_path('pytorch_model'))\n",
    "    print('label_path:', label_path)\n",
    "    print('range_section:', range_section)\n",
    "    print('calc_count:', calc_count)\n",
    "    print('label_to_int:', label_to_int)\n",
    "    \n",
    "    print('\\n        ************************************       \\n')\n",
    "                       \n",
    "    std_deviation, calc_details_df = measure_acc(root_dir, model, label_path, label_to_int, range_section, calc_count)\n",
    "    \n",
    "    calc_result(calc_details_df)\n",
    "    \n",
    "    print('\\n        ************************************       \\n')\n",
    "\n",
    "    move_log()"
   ]
  },
  {
   "cell_type": "markdown",
   "metadata": {
    "deletable": false,
    "editable": false
   },
   "source": [
    "### #10 Entry point"
   ]
  },
  {
   "cell_type": "markdown",
   "metadata": {
    "deletable": false,
    "editable": false
   },
   "source": [
    "[uneditable]"
   ]
  },
  {
   "cell_type": "code",
   "execution_count": 16,
   "metadata": {
    "deletable": false,
    "editable": false
   },
   "outputs": [
    {
     "name": "stdout",
     "output_type": "stream",
     "text": [
      "root_dir: /usr/local/qai/inventory/cifar_images\n",
      "model_path: /usr/local/qai/inventory/resnet50.pt\n",
      "label_path: /usr/local/qai/inventory/cifar_labels.csv\n",
      "range_section: 5\n",
      "calc_count: 3\n",
      "label_to_int: {'frog': 0, 'truck': 1, 'deer': 2, 'automobile': 3, 'bird': 4, 'horse': 5, 'ship': 6, 'cat': 7, 'dog': 8, 'airplane': 9}\n",
      "\n",
      "        ************************************       \n",
      "\n",
      " -------------------- Trial 1-1 start -------------------- \n",
      "subset : [   0    3    8 ... 9989 9993 9998]\n",
      "batch run index:0     correct:1.0     total:64 \n",
      "batch run index:1     correct:1.0     total:128 \n",
      "batch run index:2     correct:1.0     total:192 \n",
      "batch run index:3     correct:1.0     total:256 \n",
      "batch run index:4     correct:1.0     total:320 \n",
      "batch run index:5     correct:1.0     total:384 \n",
      "batch run index:6     correct:1.0     total:448 \n",
      "batch run index:7     correct:1.0     total:512 \n",
      "batch run index:8     correct:1.0     total:576 \n",
      "batch run index:9     correct:1.0     total:640 \n",
      "batch run index:10     correct:1.0     total:704 \n",
      "batch run index:11     correct:1.0     total:768 \n",
      "batch run index:12     correct:1.0     total:832 \n",
      "batch run index:13     correct:1.0     total:896 \n",
      "batch run index:14     correct:1.0     total:960 \n",
      "batch run index:15     correct:1.0     total:1024 \n",
      "batch run index:16     correct:1.0     total:1088 \n",
      "batch run index:17     correct:1.0     total:1152 \n",
      "batch run index:18     correct:1.0     total:1216 \n",
      "batch run index:19     correct:1.0     total:1280 \n",
      "batch run index:20     correct:1.0     total:1344 \n",
      "batch run index:21     correct:1.0     total:1408 \n",
      "batch run index:22     correct:1.0     total:1472 \n",
      "batch run index:23     correct:1.0     total:1536 \n",
      "batch run index:24     correct:1.0     total:1600 \n",
      "batch run index:25     correct:1.0     total:1664 \n",
      "batch run index:26     correct:1.0     total:1728 \n",
      "batch run index:27     correct:1.0     total:1792 \n",
      "batch run index:28     correct:1.0     total:1856 \n",
      "batch run index:29     correct:1.0     total:1920 \n",
      "batch run index:30     correct:1.0     total:1984 \n",
      "batch run index:31     correct:1.0     total:2000 \n",
      "\n",
      "　Accuracy: 0.0005　\n",
      "\n",
      " -------------------- Trial 1-1 end ---------------------- \n",
      "\n",
      " -------------------- Trial 1-2 start -------------------- \n",
      "subset : [  26   27   30 ... 9960 9962 9996]\n",
      "batch run index:0     correct:0.0     total:64 \n",
      "batch run index:1     correct:0.0     total:128 \n",
      "batch run index:2     correct:0.0     total:192 \n",
      "batch run index:3     correct:0.0     total:256 \n",
      "batch run index:4     correct:0.0     total:320 \n",
      "batch run index:5     correct:0.0     total:384 \n",
      "batch run index:6     correct:0.0     total:448 \n",
      "batch run index:7     correct:0.0     total:512 \n",
      "batch run index:8     correct:1.0     total:576 \n",
      "batch run index:9     correct:1.0     total:640 \n",
      "batch run index:10     correct:1.0     total:704 \n",
      "batch run index:11     correct:1.0     total:768 \n",
      "batch run index:12     correct:1.0     total:832 \n",
      "batch run index:13     correct:1.0     total:896 \n",
      "batch run index:14     correct:3.0     total:960 \n",
      "batch run index:15     correct:3.0     total:1024 \n",
      "batch run index:16     correct:3.0     total:1088 \n",
      "batch run index:17     correct:3.0     total:1152 \n",
      "batch run index:18     correct:3.0     total:1216 \n",
      "batch run index:19     correct:3.0     total:1280 \n",
      "batch run index:20     correct:3.0     total:1344 \n",
      "batch run index:21     correct:3.0     total:1408 \n",
      "batch run index:22     correct:4.0     total:1472 \n",
      "batch run index:23     correct:4.0     total:1536 \n",
      "batch run index:24     correct:4.0     total:1600 \n",
      "batch run index:25     correct:4.0     total:1664 \n",
      "batch run index:26     correct:4.0     total:1728 \n",
      "batch run index:27     correct:4.0     total:1792 \n",
      "batch run index:28     correct:4.0     total:1856 \n",
      "batch run index:29     correct:4.0     total:1920 \n",
      "batch run index:30     correct:5.0     total:1984 \n",
      "batch run index:31     correct:5.0     total:2000 \n",
      "\n",
      "　Accuracy: 0.0025　\n",
      "\n",
      " -------------------- Trial 1-2 end ---------------------- \n",
      "\n",
      " -------------------- Trial 1-3 start -------------------- \n",
      "subset : [   2   15   28 ... 9980 9985 9995]\n",
      "batch run index:0     correct:0.0     total:64 \n",
      "batch run index:1     correct:0.0     total:128 \n",
      "batch run index:2     correct:1.0     total:192 \n",
      "batch run index:3     correct:1.0     total:256 \n",
      "batch run index:4     correct:2.0     total:320 \n",
      "batch run index:5     correct:2.0     total:384 \n",
      "batch run index:6     correct:2.0     total:448 \n",
      "batch run index:7     correct:2.0     total:512 \n",
      "batch run index:8     correct:2.0     total:576 \n",
      "batch run index:9     correct:2.0     total:640 \n",
      "batch run index:10     correct:2.0     total:704 \n",
      "batch run index:11     correct:2.0     total:768 \n",
      "batch run index:12     correct:2.0     total:832 \n",
      "batch run index:13     correct:2.0     total:896 \n",
      "batch run index:14     correct:2.0     total:960 \n",
      "batch run index:15     correct:2.0     total:1024 \n",
      "batch run index:16     correct:3.0     total:1088 \n",
      "batch run index:17     correct:3.0     total:1152 \n",
      "batch run index:18     correct:3.0     total:1216 \n",
      "batch run index:19     correct:3.0     total:1280 \n",
      "batch run index:20     correct:4.0     total:1344 \n",
      "batch run index:21     correct:4.0     total:1408 \n",
      "batch run index:22     correct:4.0     total:1472 \n",
      "batch run index:23     correct:4.0     total:1536 \n",
      "batch run index:24     correct:5.0     total:1600 \n",
      "batch run index:25     correct:6.0     total:1664 \n",
      "batch run index:26     correct:6.0     total:1728 \n",
      "batch run index:27     correct:6.0     total:1792 \n",
      "batch run index:28     correct:6.0     total:1856 \n",
      "batch run index:29     correct:6.0     total:1920 \n",
      "batch run index:30     correct:6.0     total:1984 \n",
      "batch run index:31     correct:6.0     total:2000 \n",
      "\n",
      "　Accuracy: 0.003　\n",
      "\n",
      " -------------------- Trial 1-3 end ---------------------- \n",
      "\n",
      " -------------------- Trial 1-4 start -------------------- \n",
      "subset : [   6    7   16 ... 9992 9994 9999]\n",
      "batch run index:0     correct:0.0     total:64 \n",
      "batch run index:1     correct:0.0     total:128 \n",
      "batch run index:2     correct:0.0     total:192 \n",
      "batch run index:3     correct:0.0     total:256 \n",
      "batch run index:4     correct:0.0     total:320 \n",
      "batch run index:5     correct:0.0     total:384 \n",
      "batch run index:6     correct:1.0     total:448 \n",
      "batch run index:7     correct:1.0     total:512 \n",
      "batch run index:8     correct:1.0     total:576 \n",
      "batch run index:9     correct:1.0     total:640 \n",
      "batch run index:10     correct:1.0     total:704 \n",
      "batch run index:11     correct:1.0     total:768 \n",
      "batch run index:12     correct:1.0     total:832 \n",
      "batch run index:13     correct:1.0     total:896 \n",
      "batch run index:14     correct:1.0     total:960 \n",
      "batch run index:15     correct:1.0     total:1024 \n",
      "batch run index:16     correct:1.0     total:1088 \n",
      "batch run index:17     correct:1.0     total:1152 \n",
      "batch run index:18     correct:1.0     total:1216 \n",
      "batch run index:19     correct:1.0     total:1280 \n",
      "batch run index:20     correct:1.0     total:1344 \n",
      "batch run index:21     correct:2.0     total:1408 \n",
      "batch run index:22     correct:2.0     total:1472 \n",
      "batch run index:23     correct:2.0     total:1536 \n",
      "batch run index:24     correct:3.0     total:1600 \n",
      "batch run index:25     correct:3.0     total:1664 \n",
      "batch run index:26     correct:3.0     total:1728 \n",
      "batch run index:27     correct:3.0     total:1792 \n",
      "batch run index:28     correct:3.0     total:1856 \n",
      "batch run index:29     correct:3.0     total:1920 \n",
      "batch run index:30     correct:3.0     total:1984 \n",
      "batch run index:31     correct:3.0     total:2000 \n",
      "\n",
      "　Accuracy: 0.0015　\n",
      "\n",
      " -------------------- Trial 1-4 end ---------------------- \n",
      "\n",
      " -------------------- Trial 1-5 start -------------------- \n",
      "subset : [   1    4    5 ... 9987 9988 9997]\n",
      "batch run index:0     correct:0.0     total:64 \n",
      "batch run index:1     correct:0.0     total:128 \n",
      "batch run index:2     correct:0.0     total:192 \n",
      "batch run index:3     correct:0.0     total:256 \n",
      "batch run index:4     correct:0.0     total:320 \n",
      "batch run index:5     correct:0.0     total:384 \n",
      "batch run index:6     correct:0.0     total:448 \n",
      "batch run index:7     correct:0.0     total:512 \n",
      "batch run index:8     correct:0.0     total:576 \n",
      "batch run index:9     correct:1.0     total:640 \n",
      "batch run index:10     correct:1.0     total:704 \n",
      "batch run index:11     correct:1.0     total:768 \n",
      "batch run index:12     correct:1.0     total:832 \n",
      "batch run index:13     correct:2.0     total:896 \n",
      "batch run index:14     correct:2.0     total:960 \n",
      "batch run index:15     correct:3.0     total:1024 \n",
      "batch run index:16     correct:3.0     total:1088 \n",
      "batch run index:17     correct:3.0     total:1152 \n",
      "batch run index:18     correct:3.0     total:1216 \n",
      "batch run index:19     correct:3.0     total:1280 \n",
      "batch run index:20     correct:3.0     total:1344 \n",
      "batch run index:21     correct:3.0     total:1408 \n",
      "batch run index:22     correct:3.0     total:1472 \n",
      "batch run index:23     correct:3.0     total:1536 \n",
      "batch run index:24     correct:3.0     total:1600 \n",
      "batch run index:25     correct:3.0     total:1664 \n",
      "batch run index:26     correct:3.0     total:1728 \n",
      "batch run index:27     correct:3.0     total:1792 \n",
      "batch run index:28     correct:3.0     total:1856 \n",
      "batch run index:29     correct:3.0     total:1920 \n",
      "batch run index:30     correct:3.0     total:1984 \n",
      "batch run index:31     correct:3.0     total:2000 \n",
      "\n",
      "　Accuracy: 0.0015　\n",
      "\n",
      " -------------------- Trial 1-5 end ---------------------- \n",
      "\n",
      " -------------------- Trial 2-1 start -------------------- \n",
      "subset : [   0    3    8 ... 9989 9993 9998]\n",
      "batch run index:0     correct:0.0     total:64 \n",
      "batch run index:1     correct:0.0     total:128 \n",
      "batch run index:2     correct:0.0     total:192 \n",
      "batch run index:3     correct:0.0     total:256 \n",
      "batch run index:4     correct:0.0     total:320 \n",
      "batch run index:5     correct:1.0     total:384 \n",
      "batch run index:6     correct:1.0     total:448 \n",
      "batch run index:7     correct:1.0     total:512 \n",
      "batch run index:8     correct:1.0     total:576 \n",
      "batch run index:9     correct:1.0     total:640 \n",
      "batch run index:10     correct:1.0     total:704 \n",
      "batch run index:11     correct:1.0     total:768 \n",
      "batch run index:12     correct:1.0     total:832 \n",
      "batch run index:13     correct:1.0     total:896 \n",
      "batch run index:14     correct:1.0     total:960 \n",
      "batch run index:15     correct:1.0     total:1024 \n",
      "batch run index:16     correct:1.0     total:1088 \n",
      "batch run index:17     correct:1.0     total:1152 \n",
      "batch run index:18     correct:1.0     total:1216 \n",
      "batch run index:19     correct:1.0     total:1280 \n",
      "batch run index:20     correct:1.0     total:1344 \n",
      "batch run index:21     correct:1.0     total:1408 \n",
      "batch run index:22     correct:1.0     total:1472 \n",
      "batch run index:23     correct:1.0     total:1536 \n",
      "batch run index:24     correct:1.0     total:1600 \n",
      "batch run index:25     correct:1.0     total:1664 \n",
      "batch run index:26     correct:1.0     total:1728 \n",
      "batch run index:27     correct:1.0     total:1792 \n",
      "batch run index:28     correct:1.0     total:1856 \n",
      "batch run index:29     correct:1.0     total:1920 \n",
      "batch run index:30     correct:1.0     total:1984 \n",
      "batch run index:31     correct:1.0     total:2000 \n",
      "\n",
      "　Accuracy: 0.0005　\n",
      "\n",
      " -------------------- Trial 2-1 end ---------------------- \n",
      "\n",
      " -------------------- Trial 2-2 start -------------------- \n",
      "subset : [  26   27   30 ... 9960 9962 9996]\n",
      "batch run index:0     correct:0.0     total:64 \n",
      "batch run index:1     correct:1.0     total:128 \n",
      "batch run index:2     correct:1.0     total:192 \n",
      "batch run index:3     correct:1.0     total:256 \n",
      "batch run index:4     correct:1.0     total:320 \n",
      "batch run index:5     correct:1.0     total:384 \n",
      "batch run index:6     correct:1.0     total:448 \n",
      "batch run index:7     correct:1.0     total:512 \n",
      "batch run index:8     correct:1.0     total:576 \n",
      "batch run index:9     correct:1.0     total:640 \n",
      "batch run index:10     correct:1.0     total:704 \n",
      "batch run index:11     correct:2.0     total:768 \n",
      "batch run index:12     correct:2.0     total:832 \n",
      "batch run index:13     correct:3.0     total:896 \n",
      "batch run index:14     correct:3.0     total:960 \n",
      "batch run index:15     correct:3.0     total:1024 \n",
      "batch run index:16     correct:4.0     total:1088 \n",
      "batch run index:17     correct:4.0     total:1152 \n",
      "batch run index:18     correct:4.0     total:1216 \n",
      "batch run index:19     correct:4.0     total:1280 \n",
      "batch run index:20     correct:4.0     total:1344 \n",
      "batch run index:21     correct:4.0     total:1408 \n",
      "batch run index:22     correct:4.0     total:1472 \n",
      "batch run index:23     correct:4.0     total:1536 \n",
      "batch run index:24     correct:4.0     total:1600 \n",
      "batch run index:25     correct:4.0     total:1664 \n",
      "batch run index:26     correct:5.0     total:1728 \n",
      "batch run index:27     correct:5.0     total:1792 \n",
      "batch run index:28     correct:5.0     total:1856 \n",
      "batch run index:29     correct:5.0     total:1920 \n",
      "batch run index:30     correct:5.0     total:1984 \n",
      "batch run index:31     correct:5.0     total:2000 \n",
      "\n",
      "　Accuracy: 0.0025　\n",
      "\n",
      " -------------------- Trial 2-2 end ---------------------- \n",
      "\n",
      " -------------------- Trial 2-3 start -------------------- \n",
      "subset : [   2   15   28 ... 9980 9985 9995]\n",
      "batch run index:0     correct:0.0     total:64 \n",
      "batch run index:1     correct:0.0     total:128 \n",
      "batch run index:2     correct:0.0     total:192 \n",
      "batch run index:3     correct:1.0     total:256 \n",
      "batch run index:4     correct:1.0     total:320 \n",
      "batch run index:5     correct:1.0     total:384 \n",
      "batch run index:6     correct:1.0     total:448 \n",
      "batch run index:7     correct:1.0     total:512 \n",
      "batch run index:8     correct:1.0     total:576 \n",
      "batch run index:9     correct:2.0     total:640 \n",
      "batch run index:10     correct:3.0     total:704 \n",
      "batch run index:11     correct:3.0     total:768 \n",
      "batch run index:12     correct:3.0     total:832 \n",
      "batch run index:13     correct:3.0     total:896 \n",
      "batch run index:14     correct:4.0     total:960 \n",
      "batch run index:15     correct:4.0     total:1024 \n",
      "batch run index:16     correct:4.0     total:1088 \n",
      "batch run index:17     correct:4.0     total:1152 \n",
      "batch run index:18     correct:4.0     total:1216 \n",
      "batch run index:19     correct:5.0     total:1280 \n",
      "batch run index:20     correct:5.0     total:1344 \n",
      "batch run index:21     correct:5.0     total:1408 \n",
      "batch run index:22     correct:5.0     total:1472 \n",
      "batch run index:23     correct:5.0     total:1536 \n",
      "batch run index:24     correct:5.0     total:1600 \n",
      "batch run index:25     correct:5.0     total:1664 \n",
      "batch run index:26     correct:5.0     total:1728 \n",
      "batch run index:27     correct:5.0     total:1792 \n",
      "batch run index:28     correct:6.0     total:1856 \n",
      "batch run index:29     correct:6.0     total:1920 \n",
      "batch run index:30     correct:6.0     total:1984 \n",
      "batch run index:31     correct:6.0     total:2000 \n",
      "\n",
      "　Accuracy: 0.003　\n",
      "\n",
      " -------------------- Trial 2-3 end ---------------------- \n",
      "\n",
      " -------------------- Trial 2-4 start -------------------- \n",
      "subset : [   6    7   16 ... 9992 9994 9999]\n",
      "batch run index:0     correct:0.0     total:64 \n",
      "batch run index:1     correct:1.0     total:128 \n",
      "batch run index:2     correct:1.0     total:192 \n",
      "batch run index:3     correct:1.0     total:256 \n",
      "batch run index:4     correct:1.0     total:320 \n",
      "batch run index:5     correct:1.0     total:384 \n",
      "batch run index:6     correct:1.0     total:448 \n",
      "batch run index:7     correct:2.0     total:512 \n",
      "batch run index:8     correct:2.0     total:576 \n",
      "batch run index:9     correct:2.0     total:640 \n",
      "batch run index:10     correct:2.0     total:704 \n",
      "batch run index:11     correct:2.0     total:768 \n",
      "batch run index:12     correct:2.0     total:832 \n",
      "batch run index:13     correct:3.0     total:896 \n",
      "batch run index:14     correct:3.0     total:960 \n",
      "batch run index:15     correct:3.0     total:1024 \n",
      "batch run index:16     correct:3.0     total:1088 \n",
      "batch run index:17     correct:3.0     total:1152 \n",
      "batch run index:18     correct:3.0     total:1216 \n",
      "batch run index:19     correct:3.0     total:1280 \n",
      "batch run index:20     correct:3.0     total:1344 \n",
      "batch run index:21     correct:3.0     total:1408 \n",
      "batch run index:22     correct:3.0     total:1472 \n",
      "batch run index:23     correct:3.0     total:1536 \n",
      "batch run index:24     correct:3.0     total:1600 \n",
      "batch run index:25     correct:3.0     total:1664 \n",
      "batch run index:26     correct:3.0     total:1728 \n",
      "batch run index:27     correct:3.0     total:1792 \n",
      "batch run index:28     correct:3.0     total:1856 \n",
      "batch run index:29     correct:3.0     total:1920 \n",
      "batch run index:30     correct:3.0     total:1984 \n",
      "batch run index:31     correct:3.0     total:2000 \n",
      "\n",
      "　Accuracy: 0.0015　\n",
      "\n",
      " -------------------- Trial 2-4 end ---------------------- \n",
      "\n",
      " -------------------- Trial 2-5 start -------------------- \n",
      "subset : [   1    4    5 ... 9987 9988 9997]\n",
      "batch run index:0     correct:0.0     total:64 \n",
      "batch run index:1     correct:0.0     total:128 \n",
      "batch run index:2     correct:0.0     total:192 \n",
      "batch run index:3     correct:0.0     total:256 \n",
      "batch run index:4     correct:0.0     total:320 \n",
      "batch run index:5     correct:0.0     total:384 \n",
      "batch run index:6     correct:1.0     total:448 \n",
      "batch run index:7     correct:1.0     total:512 \n",
      "batch run index:8     correct:2.0     total:576 \n",
      "batch run index:9     correct:2.0     total:640 \n",
      "batch run index:10     correct:2.0     total:704 \n",
      "batch run index:11     correct:2.0     total:768 \n",
      "batch run index:12     correct:2.0     total:832 \n",
      "batch run index:13     correct:2.0     total:896 \n",
      "batch run index:14     correct:2.0     total:960 \n",
      "batch run index:15     correct:2.0     total:1024 \n",
      "batch run index:16     correct:2.0     total:1088 \n",
      "batch run index:17     correct:3.0     total:1152 \n",
      "batch run index:18     correct:3.0     total:1216 \n",
      "batch run index:19     correct:3.0     total:1280 \n",
      "batch run index:20     correct:3.0     total:1344 \n",
      "batch run index:21     correct:3.0     total:1408 \n",
      "batch run index:22     correct:3.0     total:1472 \n",
      "batch run index:23     correct:3.0     total:1536 \n",
      "batch run index:24     correct:3.0     total:1600 \n",
      "batch run index:25     correct:3.0     total:1664 \n",
      "batch run index:26     correct:3.0     total:1728 \n",
      "batch run index:27     correct:3.0     total:1792 \n",
      "batch run index:28     correct:3.0     total:1856 \n",
      "batch run index:29     correct:3.0     total:1920 \n",
      "batch run index:30     correct:3.0     total:1984 \n",
      "batch run index:31     correct:3.0     total:2000 \n",
      "\n",
      "　Accuracy: 0.0015　\n",
      "\n",
      " -------------------- Trial 2-5 end ---------------------- \n",
      "\n",
      " -------------------- Trial 3-1 start -------------------- \n",
      "subset : [   0    3    8 ... 9989 9993 9998]\n",
      "batch run index:0     correct:1.0     total:64 \n",
      "batch run index:1     correct:1.0     total:128 \n",
      "batch run index:2     correct:1.0     total:192 \n",
      "batch run index:3     correct:1.0     total:256 \n",
      "batch run index:4     correct:1.0     total:320 \n",
      "batch run index:5     correct:1.0     total:384 \n",
      "batch run index:6     correct:1.0     total:448 \n",
      "batch run index:7     correct:1.0     total:512 \n",
      "batch run index:8     correct:1.0     total:576 \n",
      "batch run index:9     correct:1.0     total:640 \n",
      "batch run index:10     correct:1.0     total:704 \n",
      "batch run index:11     correct:1.0     total:768 \n",
      "batch run index:12     correct:1.0     total:832 \n",
      "batch run index:13     correct:1.0     total:896 \n",
      "batch run index:14     correct:1.0     total:960 \n",
      "batch run index:15     correct:1.0     total:1024 \n",
      "batch run index:16     correct:1.0     total:1088 \n",
      "batch run index:17     correct:1.0     total:1152 \n",
      "batch run index:18     correct:1.0     total:1216 \n",
      "batch run index:19     correct:1.0     total:1280 \n",
      "batch run index:20     correct:1.0     total:1344 \n",
      "batch run index:21     correct:1.0     total:1408 \n",
      "batch run index:22     correct:1.0     total:1472 \n",
      "batch run index:23     correct:1.0     total:1536 \n",
      "batch run index:24     correct:1.0     total:1600 \n",
      "batch run index:25     correct:1.0     total:1664 \n",
      "batch run index:26     correct:1.0     total:1728 \n",
      "batch run index:27     correct:1.0     total:1792 \n",
      "batch run index:28     correct:1.0     total:1856 \n",
      "batch run index:29     correct:1.0     total:1920 \n",
      "batch run index:30     correct:1.0     total:1984 \n",
      "batch run index:31     correct:1.0     total:2000 \n",
      "\n",
      "　Accuracy: 0.0005　\n",
      "\n",
      " -------------------- Trial 3-1 end ---------------------- \n",
      "\n",
      " -------------------- Trial 3-2 start -------------------- \n",
      "subset : [  26   27   30 ... 9960 9962 9996]\n",
      "batch run index:0     correct:0.0     total:64 \n",
      "batch run index:1     correct:0.0     total:128 \n",
      "batch run index:2     correct:0.0     total:192 \n",
      "batch run index:3     correct:0.0     total:256 \n",
      "batch run index:4     correct:0.0     total:320 \n",
      "batch run index:5     correct:1.0     total:384 \n",
      "batch run index:6     correct:2.0     total:448 \n",
      "batch run index:7     correct:3.0     total:512 \n",
      "batch run index:8     correct:3.0     total:576 \n",
      "batch run index:9     correct:3.0     total:640 \n",
      "batch run index:10     correct:3.0     total:704 \n",
      "batch run index:11     correct:3.0     total:768 \n",
      "batch run index:12     correct:3.0     total:832 \n",
      "batch run index:13     correct:3.0     total:896 \n",
      "batch run index:14     correct:3.0     total:960 \n",
      "batch run index:15     correct:3.0     total:1024 \n",
      "batch run index:16     correct:3.0     total:1088 \n",
      "batch run index:17     correct:3.0     total:1152 \n",
      "batch run index:18     correct:3.0     total:1216 \n",
      "batch run index:19     correct:3.0     total:1280 \n",
      "batch run index:20     correct:3.0     total:1344 \n",
      "batch run index:21     correct:3.0     total:1408 \n",
      "batch run index:22     correct:4.0     total:1472 \n",
      "batch run index:23     correct:4.0     total:1536 \n",
      "batch run index:24     correct:4.0     total:1600 \n",
      "batch run index:25     correct:4.0     total:1664 \n",
      "batch run index:26     correct:4.0     total:1728 \n",
      "batch run index:27     correct:4.0     total:1792 \n",
      "batch run index:28     correct:4.0     total:1856 \n",
      "batch run index:29     correct:5.0     total:1920 \n",
      "batch run index:30     correct:5.0     total:1984 \n",
      "batch run index:31     correct:5.0     total:2000 \n",
      "\n",
      "　Accuracy: 0.0025　\n",
      "\n",
      " -------------------- Trial 3-2 end ---------------------- \n",
      "\n",
      " -------------------- Trial 3-3 start -------------------- \n",
      "subset : [   2   15   28 ... 9980 9985 9995]\n",
      "batch run index:0     correct:0.0     total:64 \n",
      "batch run index:1     correct:0.0     total:128 \n",
      "batch run index:2     correct:0.0     total:192 \n",
      "batch run index:3     correct:1.0     total:256 \n",
      "batch run index:4     correct:1.0     total:320 \n",
      "batch run index:5     correct:1.0     total:384 \n",
      "batch run index:6     correct:1.0     total:448 \n",
      "batch run index:7     correct:1.0     total:512 \n",
      "batch run index:8     correct:1.0     total:576 \n",
      "batch run index:9     correct:2.0     total:640 \n",
      "batch run index:10     correct:2.0     total:704 \n",
      "batch run index:11     correct:2.0     total:768 \n",
      "batch run index:12     correct:2.0     total:832 \n",
      "batch run index:13     correct:2.0     total:896 \n",
      "batch run index:14     correct:2.0     total:960 \n",
      "batch run index:15     correct:2.0     total:1024 \n",
      "batch run index:16     correct:3.0     total:1088 \n",
      "batch run index:17     correct:4.0     total:1152 \n",
      "batch run index:18     correct:4.0     total:1216 \n",
      "batch run index:19     correct:4.0     total:1280 \n",
      "batch run index:20     correct:4.0     total:1344 \n",
      "batch run index:21     correct:4.0     total:1408 \n",
      "batch run index:22     correct:4.0     total:1472 \n",
      "batch run index:23     correct:4.0     total:1536 \n",
      "batch run index:24     correct:5.0     total:1600 \n",
      "batch run index:25     correct:5.0     total:1664 \n",
      "batch run index:26     correct:6.0     total:1728 \n",
      "batch run index:27     correct:6.0     total:1792 \n",
      "batch run index:28     correct:6.0     total:1856 \n",
      "batch run index:29     correct:6.0     total:1920 \n",
      "batch run index:30     correct:6.0     total:1984 \n",
      "batch run index:31     correct:6.0     total:2000 \n",
      "\n",
      "　Accuracy: 0.003　\n",
      "\n",
      " -------------------- Trial 3-3 end ---------------------- \n",
      "\n",
      " -------------------- Trial 3-4 start -------------------- \n",
      "subset : [   6    7   16 ... 9992 9994 9999]\n",
      "batch run index:0     correct:0.0     total:64 \n",
      "batch run index:1     correct:0.0     total:128 \n",
      "batch run index:2     correct:0.0     total:192 \n",
      "batch run index:3     correct:0.0     total:256 \n",
      "batch run index:4     correct:0.0     total:320 \n",
      "batch run index:5     correct:0.0     total:384 \n",
      "batch run index:6     correct:0.0     total:448 \n",
      "batch run index:7     correct:0.0     total:512 \n",
      "batch run index:8     correct:0.0     total:576 \n",
      "batch run index:9     correct:0.0     total:640 \n",
      "batch run index:10     correct:0.0     total:704 \n",
      "batch run index:11     correct:0.0     total:768 \n",
      "batch run index:12     correct:0.0     total:832 \n",
      "batch run index:13     correct:0.0     total:896 \n",
      "batch run index:14     correct:0.0     total:960 \n",
      "batch run index:15     correct:0.0     total:1024 \n",
      "batch run index:16     correct:0.0     total:1088 \n",
      "batch run index:17     correct:0.0     total:1152 \n",
      "batch run index:18     correct:0.0     total:1216 \n",
      "batch run index:19     correct:0.0     total:1280 \n",
      "batch run index:20     correct:1.0     total:1344 \n",
      "batch run index:21     correct:1.0     total:1408 \n",
      "batch run index:22     correct:1.0     total:1472 \n",
      "batch run index:23     correct:1.0     total:1536 \n",
      "batch run index:24     correct:1.0     total:1600 \n",
      "batch run index:25     correct:2.0     total:1664 \n",
      "batch run index:26     correct:2.0     total:1728 \n",
      "batch run index:27     correct:2.0     total:1792 \n",
      "batch run index:28     correct:2.0     total:1856 \n",
      "batch run index:29     correct:2.0     total:1920 \n",
      "batch run index:30     correct:3.0     total:1984 \n",
      "batch run index:31     correct:3.0     total:2000 \n",
      "\n",
      "　Accuracy: 0.0015　\n",
      "\n",
      " -------------------- Trial 3-4 end ---------------------- \n",
      "\n",
      " -------------------- Trial 3-5 start -------------------- \n",
      "subset : [   1    4    5 ... 9987 9988 9997]\n",
      "batch run index:0     correct:0.0     total:64 \n",
      "batch run index:1     correct:0.0     total:128 \n",
      "batch run index:2     correct:0.0     total:192 \n",
      "batch run index:3     correct:0.0     total:256 \n",
      "batch run index:4     correct:0.0     total:320 \n",
      "batch run index:5     correct:0.0     total:384 \n",
      "batch run index:6     correct:0.0     total:448 \n",
      "batch run index:7     correct:1.0     total:512 \n",
      "batch run index:8     correct:1.0     total:576 \n",
      "batch run index:9     correct:1.0     total:640 \n",
      "batch run index:10     correct:1.0     total:704 \n",
      "batch run index:11     correct:1.0     total:768 \n",
      "batch run index:12     correct:1.0     total:832 \n",
      "batch run index:13     correct:2.0     total:896 \n",
      "batch run index:14     correct:3.0     total:960 \n",
      "batch run index:15     correct:3.0     total:1024 \n",
      "batch run index:16     correct:3.0     total:1088 \n",
      "batch run index:17     correct:3.0     total:1152 \n",
      "batch run index:18     correct:3.0     total:1216 \n",
      "batch run index:19     correct:3.0     total:1280 \n",
      "batch run index:20     correct:3.0     total:1344 \n",
      "batch run index:21     correct:3.0     total:1408 \n",
      "batch run index:22     correct:3.0     total:1472 \n",
      "batch run index:23     correct:3.0     total:1536 \n",
      "batch run index:24     correct:3.0     total:1600 \n",
      "batch run index:25     correct:3.0     total:1664 \n",
      "batch run index:26     correct:3.0     total:1728 \n",
      "batch run index:27     correct:3.0     total:1792 \n",
      "batch run index:28     correct:3.0     total:1856 \n",
      "batch run index:29     correct:3.0     total:1920 \n",
      "batch run index:30     correct:3.0     total:1984 \n",
      "batch run index:31     correct:3.0     total:2000 \n",
      "\n",
      "　Accuracy: 0.0015　\n",
      "\n",
      " -------------------- Trial 3-5 end ---------------------- \n",
      "\n",
      "trial_accuracies: [0.0018, 0.0018, 0.0018]\n",
      "Accuracy standard deviation over trials: 2.168404344971009e-19\n",
      "\n",
      "        ************************************       \n",
      "\n"
     ]
    }
   ],
   "source": [
    "if __name__ == '__main__':\n",
    "    main()"
   ]
  },
  {
   "cell_type": "markdown",
   "metadata": {
    "deletable": false,
    "editable": false
   },
   "source": [
    "### #11 License"
   ]
  },
  {
   "cell_type": "markdown",
   "metadata": {
    "deletable": false,
    "editable": false
   },
   "source": [
    "[required]"
   ]
  },
  {
   "cell_type": "code",
   "execution_count": 17,
   "metadata": {},
   "outputs": [],
   "source": [
    "ait_owner='AIST'\n",
    "ait_creation_year='2024'"
   ]
  },
  {
   "cell_type": "markdown",
   "metadata": {
    "deletable": false,
    "editable": false
   },
   "source": [
    "### #12 Deployment"
   ]
  },
  {
   "cell_type": "markdown",
   "metadata": {
    "deletable": false,
    "editable": false
   },
   "source": [
    "[uneditable] "
   ]
  },
  {
   "cell_type": "code",
   "execution_count": 18,
   "metadata": {
    "deletable": false,
    "editable": false
   },
   "outputs": [],
   "source": [
    "if not is_ait_launch:\n",
    "    from ait_sdk.deploy import prepare_deploy\n",
    "    from ait_sdk.license.license_generator import LicenseGenerator\n",
    "    \n",
    "    current_dir = %pwd\n",
    "    prepare_deploy(ait_sdk_name, current_dir, requirements_path)\n",
    "    \n",
    "    # output License.txt\n",
    "    license_generator = LicenseGenerator()\n",
    "    license_generator.write('../top_dir/LICENSE.txt', ait_creation_year, ait_owner)\n"
   ]
  },
  {
   "cell_type": "code",
   "execution_count": null,
   "metadata": {},
   "outputs": [],
   "source": []
  }
 ],
 "metadata": {
  "celltoolbar": "Edit Metadata",
  "kernelspec": {
   "display_name": "Python 3 (ipykernel)",
   "language": "python",
   "name": "python3"
  },
  "language_info": {
   "codemirror_mode": {
    "name": "ipython",
    "version": 3
   },
   "file_extension": ".py",
   "mimetype": "text/x-python",
   "name": "python",
   "nbconvert_exporter": "python",
   "pygments_lexer": "ipython3",
   "version": "3.8.10"
  },
  "vscode": {
   "interpreter": {
    "hash": "cc00c6a56d87bd8bd7773e730c60ddfdb8804da6b7537df09499efbcf81630f7"
   }
  }
 },
 "nbformat": 4,
 "nbformat_minor": 4
}
